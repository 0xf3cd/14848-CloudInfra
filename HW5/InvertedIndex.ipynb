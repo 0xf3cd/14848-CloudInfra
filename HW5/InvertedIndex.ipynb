{
 "cells": [
  {
   "cell_type": "code",
   "execution_count": 1,
   "id": "ff56d60a",
   "metadata": {},
   "outputs": [],
   "source": [
    "from pyspark import SparkContext, SparkConf\n",
    "import os"
   ]
  },
  {
   "cell_type": "code",
   "execution_count": 2,
   "id": "ee56664f",
   "metadata": {},
   "outputs": [
    {
     "name": "stderr",
     "output_type": "stream",
     "text": [
      "21/12/01 02:54:56 WARN NativeCodeLoader: Unable to load native-hadoop library for your platform... using builtin-java classes where applicable\n",
      "Using Spark's default log4j profile: org/apache/spark/log4j-defaults.properties\n",
      "Setting default log level to \"WARN\".\n",
      "To adjust logging level use sc.setLogLevel(newLevel). For SparkR, use setLogLevel(newLevel).\n"
     ]
    }
   ],
   "source": [
    "DATA_DIR      = './Data'\n",
    "OUTPUT_PATH   = './output'\n",
    "FILENAME_LIST = os.listdir(DATA_DIR)\n",
    "STOP_LIST     = ['they', 'she', 'he', 'it', 'the', 'as', 'is', 'and']\n",
    "\n",
    "conf = SparkConf()\n",
    "sc = SparkContext.getOrCreate(conf=conf)"
   ]
  },
  {
   "cell_type": "code",
   "execution_count": 3,
   "id": "310b9526",
   "metadata": {},
   "outputs": [],
   "source": [
    "# Read the words from files.\n",
    "rdd_map = dict()\n",
    "for filename in FILENAME_LIST:\n",
    "    rdd = sc.textFile(os.path.join(DATA_DIR, filename))\n",
    "    rdd = rdd.flatMap(lambda x : x.split()).map(lambda x : x.strip())\n",
    "    rdd = rdd.filter(lambda x : x not in STOP_LIST)\n",
    "    rdd = rdd.map(lambda x : (x, 1))\n",
    "    rdd = rdd.reduceByKey(lambda x, y : x + y)\n",
    "    rdd_map[filename] = rdd"
   ]
  },
  {
   "cell_type": "code",
   "execution_count": 4,
   "id": "aeff0116",
   "metadata": {},
   "outputs": [],
   "source": [
    "# Union the rdds in `rdd_map`.\n",
    "filename_list = list(rdd_map.keys())\n",
    "rdd = sc.emptyRDD()\n",
    "for filename in filename_list:\n",
    "    rdd = rdd.union(\n",
    "        rdd_map[filename].map(lambda x : (x[0], (x[1], filename)))\n",
    "    )"
   ]
  },
  {
   "cell_type": "code",
   "execution_count": 5,
   "id": "f00fc6fb",
   "metadata": {},
   "outputs": [],
   "source": [
    "rdd = rdd.map(lambda x : (x[0], [x[1]])) # Put the posting list into a (hash) set\n",
    "rdd = rdd.reduceByKey(lambda x, y : x + y)"
   ]
  },
  {
   "cell_type": "code",
   "execution_count": 6,
   "id": "84f664b8",
   "metadata": {},
   "outputs": [
    {
     "name": "stderr",
     "output_type": "stream",
     "text": [
      "                                                                                \r"
     ]
    },
    {
     "data": {
      "text/plain": [
       "[('Project', [(156, 'Hugo.tar.gz'), (156, 'Tolstoy.tar.gz')]),\n",
       " ('of',\n",
       "  [(26964, 'Hugo.tar.gz'),\n",
       "   (23449, 'Tolstoy.tar.gz'),\n",
       "   (16535, 'shakespeare.tar.gz')]),\n",
       " ('Notre-Dame', [(45, 'Hugo.tar.gz')]),\n",
       " ('de',\n",
       "  [(876, 'Hugo.tar.gz'),\n",
       "   (157, 'Tolstoy.tar.gz'),\n",
       "   (110, 'shakespeare.tar.gz')]),\n",
       " ('for',\n",
       "  [(3587, 'Hugo.tar.gz'),\n",
       "   (5768, 'Tolstoy.tar.gz'),\n",
       "   (5974, 'shakespeare.tar.gz')])]"
      ]
     },
     "execution_count": 6,
     "metadata": {},
     "output_type": "execute_result"
    }
   ],
   "source": [
    "rdd.take(5)"
   ]
  },
  {
   "cell_type": "code",
   "execution_count": 7,
   "id": "0aac2cfe",
   "metadata": {},
   "outputs": [
    {
     "name": "stderr",
     "output_type": "stream",
     "text": [
      "                                                                                \r"
     ]
    }
   ],
   "source": [
    "rdd.saveAsTextFile(OUTPUT_PATH)"
   ]
  },
  {
   "cell_type": "code",
   "execution_count": null,
   "id": "ac0e2d3e",
   "metadata": {},
   "outputs": [],
   "source": []
  }
 ],
 "metadata": {
  "kernelspec": {
   "display_name": "Python 3 (ipykernel)",
   "language": "python",
   "name": "python3"
  },
  "language_info": {
   "codemirror_mode": {
    "name": "ipython",
    "version": 3
   },
   "file_extension": ".py",
   "mimetype": "text/x-python",
   "name": "python",
   "nbconvert_exporter": "python",
   "pygments_lexer": "ipython3",
   "version": "3.9.7"
  }
 },
 "nbformat": 4,
 "nbformat_minor": 5
}
