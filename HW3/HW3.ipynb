{
 "cells": [
  {
   "cell_type": "code",
   "execution_count": 4,
   "id": "ad8e91b2",
   "metadata": {},
   "outputs": [],
   "source": [
    "import json\n",
    "import boto3"
   ]
  },
  {
   "cell_type": "code",
   "execution_count": 5,
   "id": "3e06b0d2",
   "metadata": {},
   "outputs": [],
   "source": [
    "f = open('./credentials.json', 'r')\n",
    "credentials = json.loads(f.read())\n",
    "f.close()"
   ]
  },
  {
   "cell_type": "code",
   "execution_count": 6,
   "id": "c7598c36",
   "metadata": {},
   "outputs": [],
   "source": [
    "s3 = boto3.resource('s3', \n",
    "                    aws_access_key_id=credentials['AccessKeyID'], \n",
    "                    aws_secret_access_key=credentials['SecretAccessKey'])"
   ]
  },
  {
   "cell_type": "code",
   "execution_count": 10,
   "id": "5998912b",
   "metadata": {},
   "outputs": [
    {
     "data": {
      "text/plain": [
       "s3.Bucket(name='ningqiwbuckethw3')"
      ]
     },
     "execution_count": 10,
     "metadata": {},
     "output_type": "execute_result"
    }
   ],
   "source": [
    "# Create the bucket\n",
    "BUCKET_NAME = 'ningqiwbuckethw3'\n",
    "LOCATION = 'us-east-2'\n",
    "s3.create_bucket(Bucket=BUCKET_NAME, CreateBucketConfiguration={ 'LocationConstraint': LOCATION })"
   ]
  },
  {
   "cell_type": "code",
   "execution_count": 19,
   "id": "1ac13ef4",
   "metadata": {},
   "outputs": [],
   "source": [
    "dyndb = boto3.resource('dynamodb', \n",
    "                       region_name=LOCATION,\n",
    "                       aws_access_key_id=credentials['AccessKeyID'], \n",
    "                       aws_secret_access_key=credentials['SecretAccessKey'])"
   ]
  },
  {
   "cell_type": "code",
   "execution_count": 21,
   "id": "208c5214",
   "metadata": {},
   "outputs": [],
   "source": [
    "# Create the table to store the data\n",
    "TABLE_NAME = 'ExpData'\n",
    "table = dyndb.create_table(\n",
    "    TableName=TABLE_NAME,\n",
    "    KeySchema=[\n",
    "        { 'AttributeName': 'PartitionKey', 'KeyType': 'HASH' },\n",
    "        { 'AttributeName': 'RowKey',       'KeyType': 'RANGE' },\n",
    "    ],\n",
    "    AttributeDefinitions=[\n",
    "        { 'AttributeName': 'PartitionKey', 'AttributeType': 'S' },\n",
    "        { 'AttributeName': 'RowKey',       'AttributeType': 'S' },\n",
    "    ],\n",
    "    BillingMode='PROVISIONED',\n",
    "    ProvisionedThroughput={\n",
    "        'ReadCapacityUnits': 128,\n",
    "        'WriteCapacityUnits': 128\n",
    "    },\n",
    ")\n",
    "# table = dyndb.Table(TABLE_NAME)"
   ]
  },
  {
   "cell_type": "code",
   "execution_count": 23,
   "id": "772475cc",
   "metadata": {},
   "outputs": [],
   "source": [
    "table.meta.client.get_waiter('table_exists').wait(TableName=TABLE_NAME)"
   ]
  },
  {
   "cell_type": "code",
   "execution_count": 24,
   "id": "3d5c2ff6",
   "metadata": {},
   "outputs": [],
   "source": [
    "import csv\n",
    "import os"
   ]
  },
  {
   "cell_type": "code",
   "execution_count": 30,
   "id": "67c5ea01",
   "metadata": {},
   "outputs": [],
   "source": [
    "URL_BASE = f'https://s3-{LOCATION}.amazonaws/com/{BUCKET_NAME}/'\n",
    "DATA_DIR = './HW3csv/'\n",
    "\n",
    "with open(os.path.join(DATA_DIR, 'experiments.csv'), 'r') as csv_file:\n",
    "    items = csv.reader(csv_file, delimiter=',', quotechar='|')\n",
    "    next(items) # Skip the header\n",
    "    for item in items:\n",
    "        body = open(os.path.join(DATA_DIR, item[4]), 'rb')\n",
    "        s3.Object(BUCKET_NAME, item[4]).put(Body=body)\n",
    "        s3.Object(BUCKET_NAME, item[4]).Acl().put(ACL='public-read')\n",
    "        \n",
    "        url = URL_BASE + item[4]\n",
    "        metadata_item = {\n",
    "            'PartitionKey': item[0],\n",
    "            'RowKey': item[1],\n",
    "            'Conductivity': item[2],\n",
    "            'Concentration': item[3],\n",
    "            'URL': url,\n",
    "        }\n",
    "        table.put_item(Item=metadata_item)"
   ]
  },
  {
   "cell_type": "code",
   "execution_count": 37,
   "id": "aa048eb8",
   "metadata": {},
   "outputs": [],
   "source": [
    "from boto3.dynamodb.conditions import Key"
   ]
  },
  {
   "cell_type": "code",
   "execution_count": 47,
   "id": "0e336d87",
   "metadata": {},
   "outputs": [
    {
     "name": "stdout",
     "output_type": "stream",
     "text": [
      "[{'Concentration': {'S': '3.4'}, 'PartitionKey': {'S': '1'}, 'RowKey': {'S': '-1'}, 'Conductivity': {'S': '52'}, 'URL': {'S': 'https://s3-us-east-2.amazonaws/com/ningqiwbuckethw3/exp1.csv'}}]\n"
     ]
    }
   ],
   "source": [
    "# Query the table we created just now\n",
    "db_client = boto3.client('dynamodb', \n",
    "                         region_name=LOCATION,\n",
    "                         aws_access_key_id=credentials['AccessKeyID'], \n",
    "                         aws_secret_access_key=credentials['SecretAccessKey'])\n",
    "\n",
    "query_resp = db_client.query(\n",
    "    TableName=TABLE_NAME,\n",
    "    KeyConditionExpression=\"PartitionKey = :id\",\n",
    "    ExpressionAttributeValues={\n",
    "        \":id\": {'S': '1'},\n",
    "    }\n",
    ")\n",
    "print(query_resp['Items'])"
   ]
  },
  {
   "cell_type": "code",
   "execution_count": null,
   "id": "ed715bed",
   "metadata": {},
   "outputs": [],
   "source": []
  }
 ],
 "metadata": {
  "kernelspec": {
   "display_name": "Python 3 (ipykernel)",
   "language": "python",
   "name": "python3"
  },
  "language_info": {
   "codemirror_mode": {
    "name": "ipython",
    "version": 3
   },
   "file_extension": ".py",
   "mimetype": "text/x-python",
   "name": "python",
   "nbconvert_exporter": "python",
   "pygments_lexer": "ipython3",
   "version": "3.9.7"
  }
 },
 "nbformat": 4,
 "nbformat_minor": 5
}
